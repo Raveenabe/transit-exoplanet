{
 "cells": [
  {
   "cell_type": "code",
   "execution_count": 1,
   "id": "571f990c",
   "metadata": {},
   "outputs": [
    {
     "name": "stderr",
     "output_type": "stream",
     "text": [
      "WARNING: non-ASCII characters are present in the FITS file header and have been replaced by \"?\" characters [astropy.io.fits.util]\n",
      "WARNING: VerifyWarning: Error validating header for HDU #0 (note: Astropy uses zero-based indexing).\n",
      "    Header size is not multiple of 2880: 4096\n",
      "There may be extra bytes after the last HDU or the file is corrupted. [astropy.io.fits.hdu.hdulist]\n"
     ]
    },
    {
     "name": "stdout",
     "output_type": "stream",
     "text": [
      "Error reading FITS file C:\\Users\\ravee\\OneDrive\\Desktop\\transit\\MSR_spectra\\._K2-11_med-58119-kp2_01_301_sp14-220.fits: Empty or corrupt FITS file\n",
      "Error processing FITS file: ._K2-11_med-58119-kp2_01_301_sp14-220.fits\n",
      "Error reading FITS file C:\\Users\\ravee\\OneDrive\\Desktop\\transit\\MSR_spectra\\._WASP-85 A_med-58121-kp2_01_701_sp09-094.fits: Empty or corrupt FITS file\n",
      "Error processing FITS file: ._WASP-85 A_med-58121-kp2_01_701_sp09-094.fits\n"
     ]
    }
   ],
   "source": [
    "import os\n",
    "import csv\n",
    "from astropy.io import fits\n",
    "\n",
    "def extract_fits_header_info(fits_filename):\n",
    "    header_info = {}\n",
    "\n",
    "    try:\n",
    "        with fits.open(fits_filename, ignore_missing_simple=True) as hdul:\n",
    "            header = hdul[0].header\n",
    "\n",
    "            # Extract specific information from the header\n",
    "            header_info['FILENAME'] = os.path.basename(fits_filename)\n",
    "            header_info['OBSID'] = header.get('OBSID', 'N/A')\n",
    "            header_info['DATE-OBS'] = header.get('DATE-OBS', 'N/A')\n",
    "            header_info['DATE-BEG'] = header.get('DATE-BEG', 'N/A')\n",
    "            header_info['DATE-END'] = header.get('DATE-END', 'N/A')\n",
    "            header_info['LMJD'] = header.get('LMJD', 'N/A')\n",
    "            header_info['MJD'] = header.get('MJD', 'N/A')\n",
    "            header_info['TELESCOP'] = header.get('TELESCOP', 'N/A')\n",
    "            header_info['RA'] = header.get('RA', 'N/A')\n",
    "            header_info['DEC'] = header.get('DEC', 'N/A')\n",
    "            header_info['EXPTIME'] = header.get('EXPTIME', 'N/A')\n",
    "            header_info['SEEING'] = header.get('SEEING', 'N/A')\n",
    "            header_info['MOONPHA'] = header.get('MOONPHA', 'N/A')\n",
    "\n",
    "            # Extract SNR from the extension 'COADD_B'\n",
    "            try:\n",
    "                snr_b = hdul['COADD_B'].header.get('SNR', 'N/A')\n",
    "                header_info['SNR_B'] = snr_b\n",
    "            except KeyError:\n",
    "                header_info['SNR_B'] = 'N/A'\n",
    "\n",
    "            # Extract SNR from the extension 'COADD_R'\n",
    "            try:\n",
    "                snr_r = hdul['COADD_R'].header.get('SNR', 'N/A')\n",
    "                header_info['SNR_R'] = snr_r\n",
    "            except KeyError:\n",
    "                header_info['SNR_R'] = 'N/A'\n",
    "\n",
    "    except OSError as e:\n",
    "        print(f\"Error reading FITS file {fits_filename}: {e}\")\n",
    "        return None\n",
    "\n",
    "    return header_info\n",
    "\n",
    "def process_fits_files(output_csv):\n",
    "    folder_path = os.getcwd()  # Get the current working directory\n",
    "\n",
    "    # List all FITS files in the folder\n",
    "    fits_files = [file for file in os.listdir(folder_path) if file.endswith('.fits')]\n",
    "\n",
    "    # Write header to CSV\n",
    "    with open(output_csv, 'w', newline='') as csv_file:\n",
    "        fieldnames = ['FILENAME', 'OBSID', 'DATE-OBS', 'DATE-BEG', 'DATE-END', 'LMJD', 'MJD',\n",
    "                      'TELESCOP', 'RA', 'DEC', 'EXPTIME', 'SEEING', 'MOONPHA', 'SNR_B', 'SNR_R']\n",
    "        writer = csv.DictWriter(csv_file, fieldnames=fieldnames)\n",
    "        writer.writeheader()\n",
    "\n",
    "        # Process each FITS file\n",
    "        for fits_file in fits_files:\n",
    "            fits_path = os.path.join(folder_path, fits_file)\n",
    "\n",
    "            try:\n",
    "                header_info = extract_fits_header_info(fits_path)\n",
    "                \n",
    "                # Check if header information was successfully extracted\n",
    "                if header_info is not None:\n",
    "                    writer.writerow(header_info)\n",
    "                else:\n",
    "                    # Print the name of the file that encountered an error\n",
    "                    print(f\"Error processing FITS file: {fits_file}\")\n",
    "\n",
    "            except Exception as e:\n",
    "                # Print the name of the file that encountered an error\n",
    "                print(f\"Error processing FITS file: {fits_file}. Error: {e}\")\n",
    "\n",
    "# Example usage\n",
    "output_csv = 'fits_info_with_snr_both.csv'  # Output CSV file name\n",
    "\n",
    "process_fits_files(output_csv)\n"
   ]
  },
  {
   "cell_type": "code",
   "execution_count": null,
   "id": "2577164a",
   "metadata": {},
   "outputs": [],
   "source": []
  }
 ],
 "metadata": {
  "kernelspec": {
   "display_name": "Python 3 (ipykernel)",
   "language": "python",
   "name": "python3"
  },
  "language_info": {
   "codemirror_mode": {
    "name": "ipython",
    "version": 3
   },
   "file_extension": ".py",
   "mimetype": "text/x-python",
   "name": "python",
   "nbconvert_exporter": "python",
   "pygments_lexer": "ipython3",
   "version": "3.11.5"
  }
 },
 "nbformat": 4,
 "nbformat_minor": 5
}
