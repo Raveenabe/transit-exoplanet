import matplotlib.pyplot as plt
from astropy.io import fits

fits_file_path = 'G 9-40_med-58119-kp2_05_901_sp16-218.fits'

# Open the FITS file
with fits.open(fits_file_path) as hdul:
    # Access wavelength and flux data from COADD_B extension
    coadd_b_data = hdul['COADD_B'].data
    wavelength_b = coadd_b_data['WAVELENGTH']
    flux_b = coadd_b_data['FLUX']

    # Access wavelength and flux data from COADD_R extension
    coadd_r_data = hdul['COADD_R'].data
    wavelength_r = coadd_r_data['WAVELENGTH']
    flux_r = coadd_r_data['FLUX']

    # Normalize the flux data
    flux_b_normalized = flux_b / max(flux_b)
    flux_r_normalized = flux_r / max(flux_r)

    # Plotting with normalized flux data
    plt.figure(figsize=(10, 6))

    plt.plot(wavelength_b, flux_b_normalized, label='COADD_B (Normalized)', color='blue')
    plt.plot(wavelength_r, flux_r_normalized, label='COADD_R (Normalized)', color='red')

    plt.xlabel('Wavelength')
    plt.ylabel('Normalized Flux')
    plt.title('Normalized COADD_B and COADD_R Spectra')
    plt.legend()

    # Save the figure to a file (adjust the filename and format as needed)
    plt.savefig('normalized_spectra_plot.png')

    # Display the saved figure
    plt.show()

