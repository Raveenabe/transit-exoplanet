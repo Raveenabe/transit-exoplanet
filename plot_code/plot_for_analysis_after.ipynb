{
 "cells": [
  {
   "cell_type": "code",
   "execution_count": 1,
   "id": "4ad73dd4",
   "metadata": {},
   "outputs": [],
   "source": [
    "import numpy as np\n",
    "from astropy.io import fits\n",
    "import matplotlib.pyplot as plt\n",
    "\n"
   ]
  },
  {
   "cell_type": "code",
   "execution_count": 15,
   "id": "87b0aa93",
   "metadata": {},
   "outputs": [],
   "source": [
    "# Load Transiting Spectrum:\n",
    "transit_file = \"EPIC 211822797_med-58507-TD084806N172341K01_sp14-051.fits\"\n",
    "data_transit = fits.open(transit_file)"
   ]
  },
  {
   "cell_type": "code",
   "execution_count": 16,
   "id": "ee2c54ec",
   "metadata": {},
   "outputs": [
    {
     "name": "stdout",
     "output_type": "stream",
     "text": [
      "Filename: EPIC 211822797_med-58507-TD084806N172341K01_sp14-051.fits\n",
      "No.    Name      Ver    Type      Cards   Dimensions   Format\n",
      "  0  Information    1 PrimaryHDU      91   ()      \n",
      "  1  COADD_B       1 BinTableHDU     38   1R x 6C   [4104E, 4104E, 4104E, 4104I, 4104I, 4104D]   \n",
      "  2  COADD_R       1 BinTableHDU     38   1R x 6C   [3854E, 3854E, 3854E, 3854I, 3854I, 3854D]   \n",
      "  3  B-84250145    1 BinTableHDU     36   1R x 5C   [4136E, 4136E, 4136E, 4136I, 4136D]   \n",
      "  4  B-84250168    1 BinTableHDU     36   1R x 5C   [4136E, 4136E, 4136E, 4136I, 4136D]   \n",
      "  5  B-84250192    1 BinTableHDU     36   1R x 5C   [4136E, 4136E, 4136E, 4136I, 4136D]   \n",
      "  6  B-84250215    1 BinTableHDU     36   1R x 5C   [4136E, 4136E, 4136E, 4136I, 4136D]   \n",
      "  7  R-84250145    1 BinTableHDU     36   1R x 5C   [4136E, 4136E, 4136E, 4136I, 4136D]   \n",
      "  8  R-84250168    1 BinTableHDU     36   1R x 5C   [4136E, 4136E, 4136E, 4136I, 4136D]   \n",
      "  9  R-84250192    1 BinTableHDU     36   1R x 5C   [4136E, 4136E, 4136E, 4136I, 4136D]   \n",
      " 10  R-84250215    1 BinTableHDU     36   1R x 5C   [4136E, 4136E, 4136E, 4136I, 4136D]   \n"
     ]
    }
   ],
   "source": [
    "#checking the data structure\n",
    "data_transit.info()"
   ]
  },
  {
   "cell_type": "code",
   "execution_count": 23,
   "id": "7f04fe07",
   "metadata": {},
   "outputs": [
    {
     "ename": "IndexError",
     "evalue": "boolean index did not match indexed array along dimension 1; dimension is 3854 but corresponding boolean dimension is 3853",
     "output_type": "error",
     "traceback": [
      "\u001b[1;31m---------------------------------------------------------------------------\u001b[0m",
      "\u001b[1;31mIndexError\u001b[0m                                Traceback (most recent call last)",
      "Cell \u001b[1;32mIn[23], line 44\u001b[0m\n\u001b[0;32m     41\u001b[0m     \u001b[38;5;28;01mreturn\u001b[39;00m interpolated_flux\n\u001b[0;32m     43\u001b[0m \u001b[38;5;66;03m# Trim or pad all spectra to the minimum length\u001b[39;00m\n\u001b[1;32m---> 44\u001b[0m non_transit_red_spectra \u001b[38;5;241m=\u001b[39m np\u001b[38;5;241m.\u001b[39marray([interpolate_spectrum(transit_wvr, spec[:min_length_red], transit_wvr) \u001b[38;5;28;01mfor\u001b[39;00m spec \u001b[38;5;129;01min\u001b[39;00m non_transit_red_spectra])\n\u001b[0;32m     45\u001b[0m non_transit_blue_spectra \u001b[38;5;241m=\u001b[39m np\u001b[38;5;241m.\u001b[39marray([interpolate_spectrum(transit_wvb, spec[:min_length_blue], transit_wvb) \u001b[38;5;28;01mfor\u001b[39;00m spec \u001b[38;5;129;01min\u001b[39;00m non_transit_blue_spectra])\n\u001b[0;32m     48\u001b[0m \u001b[38;5;66;03m# Calculate mean spectra\u001b[39;00m\n",
      "Cell \u001b[1;32mIn[23], line 44\u001b[0m, in \u001b[0;36m<listcomp>\u001b[1;34m(.0)\u001b[0m\n\u001b[0;32m     41\u001b[0m     \u001b[38;5;28;01mreturn\u001b[39;00m interpolated_flux\n\u001b[0;32m     43\u001b[0m \u001b[38;5;66;03m# Trim or pad all spectra to the minimum length\u001b[39;00m\n\u001b[1;32m---> 44\u001b[0m non_transit_red_spectra \u001b[38;5;241m=\u001b[39m np\u001b[38;5;241m.\u001b[39marray([interpolate_spectrum(transit_wvr, spec[:min_length_red], transit_wvr) \u001b[38;5;28;01mfor\u001b[39;00m spec \u001b[38;5;129;01min\u001b[39;00m non_transit_red_spectra])\n\u001b[0;32m     45\u001b[0m non_transit_blue_spectra \u001b[38;5;241m=\u001b[39m np\u001b[38;5;241m.\u001b[39marray([interpolate_spectrum(transit_wvb, spec[:min_length_blue], transit_wvb) \u001b[38;5;28;01mfor\u001b[39;00m spec \u001b[38;5;129;01min\u001b[39;00m non_transit_blue_spectra])\n\u001b[0;32m     48\u001b[0m \u001b[38;5;66;03m# Calculate mean spectra\u001b[39;00m\n",
      "Cell \u001b[1;32mIn[23], line 35\u001b[0m, in \u001b[0;36minterpolate_spectrum\u001b[1;34m(wavelength, flux, target_wavelength)\u001b[0m\n\u001b[0;32m     32\u001b[0m \u001b[38;5;28;01mdef\u001b[39;00m \u001b[38;5;21minterpolate_spectrum\u001b[39m(wavelength, flux, target_wavelength):\n\u001b[0;32m     33\u001b[0m     \u001b[38;5;66;03m# Remove NaN values\u001b[39;00m\n\u001b[0;32m     34\u001b[0m     valid_indices \u001b[38;5;241m=\u001b[39m \u001b[38;5;241m~\u001b[39mnp\u001b[38;5;241m.\u001b[39misnan(flux)\n\u001b[1;32m---> 35\u001b[0m     wavelength \u001b[38;5;241m=\u001b[39m wavelength[valid_indices]\n\u001b[0;32m     36\u001b[0m     flux \u001b[38;5;241m=\u001b[39m flux[valid_indices]\n\u001b[0;32m     38\u001b[0m     \u001b[38;5;66;03m# Interpolate onto the target wavelength grid\u001b[39;00m\n",
      "\u001b[1;31mIndexError\u001b[0m: boolean index did not match indexed array along dimension 1; dimension is 3854 but corresponding boolean dimension is 3853"
     ]
    }
   ],
   "source": [
    "# Red arm spectra\n",
    "transit_wvr = data_transit[2].data[\"WAVELENGTH\"]\n",
    "transit_red = data_transit[2].data[\"FLUX\"]\n",
    "\n",
    "# Blue arm spectra\n",
    "transit_wvb = data_transit[1].data[\"WAVELENGTH\"]\n",
    "transit_blue = data_transit[1].data[\"FLUX\"]\n",
    "\n",
    "# Calculate median flux for each arm\n",
    "median_flux_red = np.median(transit_red)\n",
    "median_flux_blue = np.median(transit_blue)\n",
    "\n",
    "# Normalize spectra\n",
    "normalized_red = transit_red / median_flux_red\n",
    "normalized_blue = transit_blue / median_flux_blue\n",
    "\n",
    "# Load Non-Transit Spectra:\n",
    "non_transit_files = [\"EPIC 211822797_med-58508-TD084806N172341K01_sp14-051.fits\"]\n",
    "\n",
    "non_transit_red_spectra = []\n",
    "non_transit_blue_spectra = []\n",
    "\n",
    "for file in non_transit_files:\n",
    "    data_non_transit = fits.open(file)\n",
    "    non_transit_red_spectra.append(data_non_transit[2].data[\"FLUX\"])\n",
    "    non_transit_blue_spectra.append(data_non_transit[1].data[\"FLUX\"])\n",
    "\n",
    "# Find the minimum length among all spectra\n",
    "min_length_red = min(min(len(spec) for spec in non_transit_red_spectra), len(transit_red))\n",
    "min_length_blue = min(min(len(spec) for spec in non_transit_blue_spectra), len(transit_blue))\n",
    "\n",
    "def interpolate_spectrum(wavelength, flux, target_wavelength):\n",
    "    # Remove NaN values\n",
    "    valid_indices = ~np.isnan(flux)\n",
    "    wavelength = wavelength[valid_indices]\n",
    "    flux = flux[valid_indices]\n",
    "    \n",
    "    # Interpolate onto the target wavelength grid\n",
    "    interpolated_flux = np.interp(target_wavelength, wavelength, flux, left=np.nan, right=np.nan)\n",
    "    \n",
    "    return interpolated_flux\n",
    "\n",
    "# Trim or pad all spectra to the minimum length\n",
    "non_transit_red_spectra = np.array([interpolate_spectrum(transit_wvr, spec[:min_length_red], transit_wvr) for spec in non_transit_red_spectra])\n",
    "non_transit_blue_spectra = np.array([interpolate_spectrum(transit_wvb, spec[:min_length_blue], transit_wvb) for spec in non_transit_blue_spectra])\n",
    "\n",
    "\n",
    "# Calculate mean spectra\n",
    "mean_non_transit_red = np.nanmean(non_transit_red_spectra, axis=0)\n",
    "mean_non_transit_blue = np.nanmean(non_transit_blue_spectra, axis=0)\n",
    "\n",
    "# Divide In-Transit Spectrum by Mean Spectrum:\n",
    "divided_transit_red = normalized_red / mean_non_transit_red\n",
    "divided_transit_blue = normalized_blue / mean_non_transit_blue\n",
    "\n",
    "# Binning for Increased Signal-to-Noise Ratio (SNR):\n",
    "def bin_spectrum(wavelength, flux, bin_size):\n",
    "    binned_wavelength = wavelength[:len(wavelength)//bin_size * bin_size].reshape(-1, bin_size).mean(axis=1)\n",
    "    binned_flux = flux[:len(flux)//bin_size * bin_size].reshape(-1, bin_size).mean(axis=1)\n",
    "    return binned_wavelength, binned_flux\n",
    "\n",
    "bin_size = 10\n",
    "\n",
    "binned_wvb, binned_normalized_blue = bin_spectrum(transit_wvb, divided_transit_blue, bin_size)\n",
    "binned_wvr, binned_normalized_red = bin_spectrum(transit_wvr, divided_transit_red, bin_size)\n",
    "\n",
    "# Plotting:\n",
    "# Assuming you have defined other variables such as wvb, wvr, normalized_blue, normalized_red, etc.\n",
    "\n",
    "# Find the range of normalized flux values\n",
    "min_flux = min(np.min(normalized_blue), np.min(normalized_red))\n",
    "max_flux = max(np.max(normalized_blue), np.max(normalized_red))\n",
    "\n",
    "# Increase the figure width for stretching\n",
    "f, (ax, ax2) = plt.subplots(1, 2, sharey=True, facecolor='w', figsize=(14, 6))\n",
    "f.subplots_adjust(wspace=0.020)\n",
    "\n",
    "# Plot the normalized spectra on both axes with a gap in the broken axis\n",
    "ax.plot(binned_wvb[0,:], binned_normalized_blue[0,:], label='Normalized Blue Arm', color='blue')\n",
    "ax2.plot(binned_wvr[0,:], binned_normalized_red[0,:], label='Normalized Red Arm', color='red')\n",
    "\n",
    "# Add a gap in the broken axis using np.nan\n",
    "ax.plot([np.nan, np.nan], [np.nan, np.nan], color='k', linestyle='-', linewidth=1)\n",
    "ax2.plot([np.nan, np.nan], [np.nan, np.nan], color='k', linestyle='-', linewidth=1)\n",
    "\n",
    "# Set x-axis limits\n",
    "ax.set_xlim(np.min(binned_wvb), np.max(binned_wvb))\n",
    "ax2.set_xlim(np.min(binned_wvr), np.max(binned_wvr))\n",
    "\n",
    "# Set y-axis limits based on the range of normalized flux values\n",
    "ax.set_ylim(min_flux, max_flux)\n",
    "ax2.set_ylim(min_flux, max_flux)\n",
    "\n",
    "# Hide the spines between ax and ax2\n",
    "ax.spines['right'].set_visible(False)\n",
    "ax2.spines['left'].set_visible(False)\n",
    "ax.yaxis.tick_left()\n",
    "ax2.tick_params(labelright='off')\n",
    "ax2.yaxis.tick_right()\n",
    "\n",
    "# Adjust the figure layout\n",
    "f.text(0.5, 0.03, 'Wavelength [Angstrom]', ha='center', size=12)\n",
    "f.text(0.065, 0.5, 'Normalized Flux', va='center', rotation='vertical', size=12)\n",
    "f.suptitle('Normalized Spectra (Broken Axis)', size=14)\n",
    "\n",
    "plt.show()\n"
   ]
  },
  {
   "cell_type": "code",
   "execution_count": null,
   "id": "63483dd3",
   "metadata": {},
   "outputs": [],
   "source": []
  }
 ],
 "metadata": {
  "kernelspec": {
   "display_name": "Python 3 (ipykernel)",
   "language": "python",
   "name": "python3"
  },
  "language_info": {
   "codemirror_mode": {
    "name": "ipython",
    "version": 3
   },
   "file_extension": ".py",
   "mimetype": "text/x-python",
   "name": "python",
   "nbconvert_exporter": "python",
   "pygments_lexer": "ipython3",
   "version": "3.11.5"
  }
 },
 "nbformat": 4,
 "nbformat_minor": 5
}
