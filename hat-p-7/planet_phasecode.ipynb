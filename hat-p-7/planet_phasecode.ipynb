{
 "cells": [
  {
   "cell_type": "code",
   "execution_count": 4,
   "metadata": {},
   "outputs": [
    {
     "name": "stdout",
     "output_type": "stream",
     "text": [
      "Phase start: 0.9593\n",
      "Phase end: 0.1147\n"
     ]
    }
   ],
   "source": [
    "from datetime import datetime\n",
    "\n",
    "def calculate_phase(observation_start, observation_end, orbital_period, time_of_conjunction):\n",
    "    # Convert date strings to datetime objects\n",
    "    date_format_with_seconds = \"%Y-%m-%dT%H:%M:%S.%f\"\n",
    "    date_format_without_seconds = \"%Y-%m-%dT%H:%M:%S\"\n",
    "\n",
    "    try:\n",
    "        start_datetime = datetime.strptime(observation_start, date_format_with_seconds)\n",
    "    except ValueError:\n",
    "        start_datetime = datetime.strptime(observation_start, date_format_without_seconds)\n",
    "\n",
    "    try:\n",
    "        end_datetime = datetime.strptime(observation_end, date_format_with_seconds)\n",
    "    except ValueError:\n",
    "        end_datetime = datetime.strptime(observation_end, date_format_without_seconds)\n",
    "\n",
    "    # Calculate JD for start and end times\n",
    "    jd_start = start_datetime.timestamp() / (24 * 60 * 60) + 2400000.5\n",
    "    jd_end = end_datetime.timestamp() / (24 * 60 * 60) + 2400000.5\n",
    "\n",
    "    # Calculate phases\n",
    "    phase_start = (jd_start - time_of_conjunction) % orbital_period / orbital_period\n",
    "    phase_end = (jd_end - time_of_conjunction) % orbital_period / orbital_period\n",
    "\n",
    "    return phase_start, phase_end\n",
    "\n",
    "# Example usage for the given observation:\n",
    "observation_start = \"2017-10-23T10:58:52.31\"\n",
    "observation_end = \"2017-10-23T19:12:16.0\"\n",
    "orbital_period = 2.2047363  # Replace with the actual orbital period\n",
    "time_of_conjunction = 2455174.8326  # Replace with the actual time of conjunction\n",
    "\n",
    "phase_start, phase_end = calculate_phase(observation_start, observation_end, orbital_period, time_of_conjunction)\n",
    "\n",
    "print(f\"Phase start: {phase_start:.4f}\")\n",
    "print(f\"Phase end: {phase_end:.4f}\")\n"
   ]
  },
  {
   "cell_type": "code",
   "execution_count": null,
   "metadata": {},
   "outputs": [],
   "source": []
  }
 ],
 "metadata": {
  "kernelspec": {
   "display_name": "Python 3 (ipykernel)",
   "language": "python",
   "name": "python3"
  },
  "language_info": {
   "codemirror_mode": {
    "name": "ipython",
    "version": 3
   },
   "file_extension": ".py",
   "mimetype": "text/x-python",
   "name": "python",
   "nbconvert_exporter": "python",
   "pygments_lexer": "ipython3",
   "version": "3.11.5"
  }
 },
 "nbformat": 4,
 "nbformat_minor": 2
}
